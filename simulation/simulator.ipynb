{
 "cells": [
  {
   "cell_type": "code",
   "execution_count": 1,
   "metadata": {},
   "outputs": [],
   "source": [
    "import pandas as pd"
   ]
  },
  {
   "cell_type": "code",
   "execution_count": 2,
   "metadata": {},
   "outputs": [
    {
     "name": "stdout",
     "output_type": "stream",
     "text": [
      "          result  odds_home  odds_draw  odds_away points_home points_away  \\\n",
      "index                                                                       \n",
      "50.0    home win       1.20       6.00      15.00          15           3   \n",
      "51.0    home win       1.13       8.00      19.00          15           6   \n",
      "52.0        draw       2.10       3.30       3.50           6           4   \n",
      "53.0    home win       1.67       3.75       5.00           5           3   \n",
      "54.0    away win      10.00       5.50       1.29           3          13   \n",
      "...          ...        ...        ...        ...         ...         ...   \n",
      "3415.0      draw       1.44       4.33       7.50           8           2   \n",
      "3416.0  away win       3.30       3.40       2.20           3           7   \n",
      "3417.0  away win       2.10       4.00       3.00          10           7   \n",
      "3418.0  home win       2.50       3.30       2.87           7          10   \n",
      "3419.0  away win       2.62       3.30       2.70           7           8   \n",
      "\n",
      "       goals_scored_home goals_scored_away goals_conceded_home  \\\n",
      "index                                                            \n",
      "50.0                  16                 4                   4   \n",
      "51.0                  18                 4                   4   \n",
      "52.0                   4                 3                  10   \n",
      "53.0                   7                10                   4   \n",
      "54.0                   4                12                   8   \n",
      "...                  ...               ...                 ...   \n",
      "3415.0                 8                 3                   5   \n",
      "3416.0                 4                 7                   8   \n",
      "3417.0                 7                10                   4   \n",
      "3418.0                 6                 7                   5   \n",
      "3419.0                 7                 4                   5   \n",
      "\n",
      "       goals_conceded_away shots_given_home shots_given_away  \\\n",
      "index                                                          \n",
      "50.0                    10               81               60   \n",
      "51.0                     3               90               60   \n",
      "52.0                     6               47               55   \n",
      "53.0                    13               63               60   \n",
      "54.0                     5               58              110   \n",
      "...                    ...              ...              ...   \n",
      "3415.0                   9               62               48   \n",
      "3416.0                  10               53               51   \n",
      "3417.0                   6               61               63   \n",
      "3418.0                   3               57               52   \n",
      "3419.0                   3               61               70   \n",
      "\n",
      "       shots_conceded_home shots_conceded_away corners_difference_home  \\\n",
      "index                                                                    \n",
      "50.0                    50                  57                      24   \n",
      "51.0                    50                  67                      22   \n",
      "52.0                    89                  71                      -5   \n",
      "53.0                    61                  79                     -21   \n",
      "54.0                    47                  57                      13   \n",
      "...                    ...                 ...                     ...   \n",
      "3415.0                  72                  81                      -9   \n",
      "3416.0                  66                  72                      -3   \n",
      "3417.0                  45                  51                       9   \n",
      "3418.0                  61                  60                      -5   \n",
      "3419.0                  64                  50                     -13   \n",
      "\n",
      "       corners_difference_away  \n",
      "index                           \n",
      "50.0                        -1  \n",
      "51.0                        -4  \n",
      "52.0                       -10  \n",
      "53.0                       -13  \n",
      "54.0                         1  \n",
      "...                        ...  \n",
      "3415.0                     -15  \n",
      "3416.0                     -10  \n",
      "3417.0                       1  \n",
      "3418.0                      10  \n",
      "3419.0                       2  \n",
      "\n",
      "[3316 rows x 16 columns]\n"
     ]
    }
   ],
   "source": [
    "data = pd.read_pickle('input_data.pickle')\n",
    "\n",
    "print(data)"
   ]
  }
 ],
 "metadata": {
  "kernelspec": {
   "display_name": "orangeenv",
   "language": "python",
   "name": "python3"
  },
  "language_info": {
   "codemirror_mode": {
    "name": "ipython",
    "version": 3
   },
   "file_extension": ".py",
   "mimetype": "text/x-python",
   "name": "python",
   "nbconvert_exporter": "python",
   "pygments_lexer": "ipython3",
   "version": "3.9.15"
  },
  "orig_nbformat": 4,
  "vscode": {
   "interpreter": {
    "hash": "45745871cde35f86d4edcb061cbd797831482792f2ff92c8eb37fb5179f0d55d"
   }
  }
 },
 "nbformat": 4,
 "nbformat_minor": 2
}
